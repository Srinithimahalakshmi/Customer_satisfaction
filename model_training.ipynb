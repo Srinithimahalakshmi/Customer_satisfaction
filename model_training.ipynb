{
 "cells": [
  {
   "cell_type": "code",
   "execution_count": 6,
   "id": "87229f60",
   "metadata": {},
   "outputs": [
    {
     "name": "stdout",
     "output_type": "stream",
     "text": [
      "✅ Model and scaler saved successfully.\n"
     ]
    }
   ],
   "source": [
    "import pandas as pd\n",
    "from sklearn.preprocessing import StandardScaler\n",
    "from sklearn.cluster import AgglomerativeClustering\n",
    "import joblib\n",
    "\n",
    "# Load dataset\n",
    "df = pd.read_csv(\"Customer Satisfaction Scores and Behavior Data.csv\")\n",
    "\n",
    "# Convert 'Yes'/'No' like values to 1/0 if present\n",
    "df['Purchase_History'] = df['Purchase_History'].map({'Yes': 1, 'No': 0})\n",
    "df['Support_Contacted'] = df['Support_Contacted'].map({'Yes': 1, 'No': 0})\n",
    "\n",
    "# Remove rows with missing values after mapping\n",
    "df = df.dropna(subset=['Satisfaction_Score', 'Age', 'Purchase_History', 'Support_Contacted'])\n",
    "\n",
    "# Feature selection\n",
    "features = ['Satisfaction_Score', 'Age', 'Purchase_History', 'Support_Contacted']\n",
    "X = df[features]\n",
    "\n",
    "# Scale\n",
    "scaler = StandardScaler()\n",
    "X_scaled = scaler.fit_transform(X)\n",
    "\n",
    "# Hierarchical clustering\n",
    "model = AgglomerativeClustering(n_clusters=3, linkage='ward')\n",
    "labels = model.fit_predict(X_scaled)\n",
    "\n",
    "# Save model and scaler\n",
    "joblib.dump(scaler, \"scaler.joblib\")\n",
    "joblib.dump(model, \"agglo_model.joblib\")\n",
    "\n",
    "print(\"✅ Model and scaler saved successfully.\")\n"
   ]
  }
 ],
 "metadata": {
  "kernelspec": {
   "display_name": "Python 3",
   "language": "python",
   "name": "python3"
  },
  "language_info": {
   "codemirror_mode": {
    "name": "ipython",
    "version": 3
   },
   "file_extension": ".py",
   "mimetype": "text/x-python",
   "name": "python",
   "nbconvert_exporter": "python",
   "pygments_lexer": "ipython3",
   "version": "3.10.9"
  }
 },
 "nbformat": 4,
 "nbformat_minor": 5
}
